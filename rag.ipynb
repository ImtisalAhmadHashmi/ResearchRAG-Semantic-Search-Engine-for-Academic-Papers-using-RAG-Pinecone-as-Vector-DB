{
 "cells": [
  {
   "cell_type": "code",
   "execution_count": 1,
   "id": "3760c679",
   "metadata": {},
   "outputs": [
    {
     "data": {
      "text/plain": [
       "True"
      ]
     },
     "execution_count": 1,
     "metadata": {},
     "output_type": "execute_result"
    }
   ],
   "source": [
    "from dotenv import load_dotenv\n",
    "import os   \n",
    "import getpass\n",
    "from pinecone import Pinecone\n",
    "\n",
    "load_dotenv(override=True)\n"
   ]
  },
  {
   "cell_type": "code",
   "execution_count": 2,
   "id": "c6130b6f",
   "metadata": {},
   "outputs": [],
   "source": [
    "os.environ[\"PINECONE_API_KEY\"] = os.getenv(\"PINECONE_API_KEY\")"
   ]
  },
  {
   "cell_type": "code",
   "execution_count": 15,
   "id": "9dd2c5d1",
   "metadata": {},
   "outputs": [],
   "source": [
    "pinecone_api_key = os.environ.get(\"PINECONE_API_KEY\")"
   ]
  },
  {
   "cell_type": "code",
   "execution_count": null,
   "id": "3f864bfd",
   "metadata": {},
   "outputs": [],
   "source": [
    "if not os.getenv(\"PINECONE_API_KEY\"):\n",
    "    os.environ[\"PINECONE_API_KEY\"] = getpass.getpass(\"pcsk_4Wtmki_AHQqmDcTr5DqBReZBq3LxWFkCKTAYMcPuEixpMK6WMiXhvTEkBR7ZzoLZHEschT\")\n",
    "\n",
    "pinecone_api_key = os.environ.get(\"PINECONE_API_KEY\")"
   ]
  },
  {
   "cell_type": "code",
   "execution_count": 3,
   "id": "1c0c70c6",
   "metadata": {},
   "outputs": [
    {
     "name": "stderr",
     "output_type": "stream",
     "text": [
      "d:\\ML Projects\\Langchain_Rag_Projects\\venv\\Lib\\site-packages\\tqdm\\auto.py:21: TqdmWarning: IProgress not found. Please update jupyter and ipywidgets. See https://ipywidgets.readthedocs.io/en/stable/user_install.html\n",
      "  from .autonotebook import tqdm as notebook_tqdm\n"
     ]
    }
   ],
   "source": [
    "from langchain_community.document_loaders import PyPDFLoader\n",
    "from langchain.text_splitter import RecursiveCharacterTextSplitter\n",
    "from langchain_ollama import OllamaEmbeddings\n",
    "from langchain_ollama.llms import OllamaLLM\n",
    "from pinecone import ServerlessSpec\n",
    "from langchain_pinecone import PineconeVectorStore"
   ]
  },
  {
   "cell_type": "code",
   "execution_count": 4,
   "id": "6b5e0a8a",
   "metadata": {},
   "outputs": [],
   "source": [
    "#LOADING THE DOCUMENTS\n",
    "def load_documents(docuement_name):\n",
    "    loader = PyPDFLoader(docuement_name)\n",
    "    documents = loader.load()\n",
    "    return documents"
   ]
  },
  {
   "cell_type": "code",
   "execution_count": 5,
   "id": "71f03dc6",
   "metadata": {},
   "outputs": [],
   "source": [
    "doc = load_documents(\"fyp_research_paper.pdf\")"
   ]
  },
  {
   "cell_type": "code",
   "execution_count": 6,
   "id": "104a3e72",
   "metadata": {},
   "outputs": [
    {
     "data": {
      "text/plain": [
       "22"
      ]
     },
     "execution_count": 6,
     "metadata": {},
     "output_type": "execute_result"
    }
   ],
   "source": [
    "len(doc)"
   ]
  },
  {
   "cell_type": "code",
   "execution_count": 7,
   "id": "ba5bf8db",
   "metadata": {},
   "outputs": [],
   "source": [
    "#Dicide the docuemnt to chunks\n",
    "def doc_splitter(document, chunk_size=1000, chunk_overlap=200):\n",
    "    text_splitter = RecursiveCharacterTextSplitter(chunk_size=chunk_size, chunk_overlap=chunk_overlap)\n",
    "    docs = text_splitter.split_documents(document)\n",
    "    return docs"
   ]
  },
  {
   "cell_type": "code",
   "execution_count": 8,
   "id": "9862bb95",
   "metadata": {},
   "outputs": [],
   "source": [
    "docs = doc_splitter(doc)"
   ]
  },
  {
   "cell_type": "code",
   "execution_count": 9,
   "id": "2a3137ee",
   "metadata": {},
   "outputs": [
    {
     "data": {
      "text/plain": [
       "93"
      ]
     },
     "execution_count": 9,
     "metadata": {},
     "output_type": "execute_result"
    }
   ],
   "source": [
    "len(docs)"
   ]
  },
  {
   "cell_type": "code",
   "execution_count": 10,
   "id": "d4d548eb",
   "metadata": {},
   "outputs": [],
   "source": [
    "#Embedding the documents\n",
    "embeddings = OllamaEmbeddings(model=\"deepseek-r1:1.5b\")"
   ]
  },
  {
   "cell_type": "code",
   "execution_count": 11,
   "id": "eae4d3b3",
   "metadata": {},
   "outputs": [
    {
     "data": {
      "text/plain": [
       "OllamaEmbeddings(model='deepseek-r1:1.5b', validate_model_on_init=False, base_url=None, client_kwargs={}, async_client_kwargs={}, sync_client_kwargs={}, mirostat=None, mirostat_eta=None, mirostat_tau=None, num_ctx=None, num_gpu=None, keep_alive=None, num_thread=None, repeat_last_n=None, repeat_penalty=None, temperature=None, stop=None, tfs_z=None, top_k=None, top_p=None)"
      ]
     },
     "execution_count": 11,
     "metadata": {},
     "output_type": "execute_result"
    }
   ],
   "source": [
    "embeddings"
   ]
  },
  {
   "cell_type": "code",
   "execution_count": 12,
   "id": "4316625b",
   "metadata": {},
   "outputs": [],
   "source": [
    "vectors = embeddings.embed_query(\"What is the main topic of the research paper?\")"
   ]
  },
  {
   "cell_type": "code",
   "execution_count": 13,
   "id": "5211d712",
   "metadata": {},
   "outputs": [
    {
     "data": {
      "text/plain": [
       "1536"
      ]
     },
     "execution_count": 13,
     "metadata": {},
     "output_type": "execute_result"
    }
   ],
   "source": [
    "len(vectors)"
   ]
  },
  {
   "cell_type": "code",
   "execution_count": null,
   "id": "b0c7c577",
   "metadata": {},
   "outputs": [],
   "source": [
    "vectors"
   ]
  },
  {
   "cell_type": "code",
   "execution_count": 16,
   "id": "ade4971c",
   "metadata": {},
   "outputs": [],
   "source": [
    "pc = Pinecone(api_key=pinecone_api_key)\n",
    "index_name = \"langchainvectors\"\n",
    "\n",
    "index = pc.Index(index_name)\n",
    "\n",
    "vector_store = PineconeVectorStore(index=index, embedding=embeddings)"
   ]
  },
  {
   "cell_type": "code",
   "execution_count": 17,
   "id": "28bcd8a1",
   "metadata": {},
   "outputs": [
    {
     "data": {
      "text/plain": [
       "['973f86f1-e99e-4105-8049-c60d4a3bea91',\n",
       " '6071b483-e2fb-402d-b78a-6f98c1c8d440',\n",
       " '45ee8d84-93d2-4400-ac50-e49c714285ee',\n",
       " '56c41bd7-8059-48fc-aea4-6af346393589',\n",
       " 'fd83d501-c36b-4bab-9328-4f4a3386020c',\n",
       " '3fc849f6-530d-4e96-a2ae-681c065b7698',\n",
       " 'dfac73f3-7225-4f37-9f97-42231e9e6b43',\n",
       " '9190d86b-6856-4745-9d4d-4bc8a6c05141',\n",
       " '68a7a96d-55f3-407a-a076-3b196d66ec5e',\n",
       " '5a4bab80-8161-49b4-9990-a7d6054645b5',\n",
       " 'a5685acd-c179-4c00-927b-5f17aaf0025f',\n",
       " '266b4f8c-d9ec-4b66-91a4-aa49e236b6c3',\n",
       " '679015c5-8231-40b1-a9c4-ac69f3b2db04',\n",
       " '03a49c60-4639-457c-9752-578082813257',\n",
       " 'dc0218be-12e8-4b2f-a3ea-bb26bdbaea60',\n",
       " 'a380a567-a1ff-48b3-9736-ffc9a084e5cc',\n",
       " '6179aade-5ccd-47e5-94a9-8885535e0b9b',\n",
       " '06a633d4-03be-4c78-a645-d24e3e819373',\n",
       " 'c9094249-3061-4618-8536-967ae0c9d491',\n",
       " 'd30a0d1e-0f21-48e7-9715-86a21ceebfb0',\n",
       " '8c140ec3-923c-4e2d-b12d-322531b16607',\n",
       " '76b28bd9-b60c-4a2a-b943-aaad5a62c324',\n",
       " '2763a3de-b904-43e4-b8a2-0538af168100',\n",
       " '91794767-af0b-40bf-8d88-6e4c1c331e92',\n",
       " 'eba3ce11-5b68-459f-b144-7ada87e47cdb',\n",
       " 'e961c572-9dc5-4594-a18e-491aaf688001',\n",
       " 'bf91d1e4-4c4b-46fb-8cde-62ba108d4b30',\n",
       " '3a0a1230-4bd6-4270-81ca-09c88ebb4ab6',\n",
       " '361f3d50-55c2-43c6-883f-9c8d93a1ff93',\n",
       " '552e1ee3-c91f-4625-a42a-2aef964f3c68',\n",
       " 'd1166c5b-5033-4689-862e-0c3e43f8c49e',\n",
       " 'e0bfa103-b3ce-466d-a62b-84bf38de29a3',\n",
       " '8a9a08a2-60b0-43b8-988a-10b2f275b456',\n",
       " 'b8db364c-c0d8-40d0-8b91-cf1cd29d8db9',\n",
       " '59d6c750-5530-4653-bfa1-9df233b85512',\n",
       " '4a33bbbc-8f61-4bc0-8611-0b97bcc2e305',\n",
       " '75efd948-241d-490e-83c6-1e0215cd1b5e',\n",
       " '41803952-6154-40c3-8130-b89ba578d2ed',\n",
       " '02fd417f-14b1-41ff-8b4a-7b152a9dfe4e',\n",
       " 'bd484342-86ca-4fc5-a105-7c3858d743a7',\n",
       " '773e2084-471c-409a-b778-358629842b96',\n",
       " '3b6c7975-0487-4fea-9562-7bd04374d405',\n",
       " 'aaad2b7b-d798-458b-aef9-ed878ce8ff24',\n",
       " '3c02f9d9-f1e8-4984-ab73-5fa4be3f3e0a',\n",
       " '33dfa423-a7c0-4c23-b4f3-e39796b20eb0',\n",
       " 'a2deca08-d9de-4d25-89f0-1c0d75e0a7da',\n",
       " 'eabac721-423b-43c2-978d-2fb6a6b64b9d',\n",
       " '34304fc9-1fe8-471c-802a-aab63036b13f',\n",
       " '37fe0039-4cf5-48b8-8f5f-89c9a72721f1',\n",
       " 'ffed7eff-25b2-4b03-a384-9ff70dcd789a',\n",
       " '1c67cd6f-32d2-4c9e-b388-2cff494e3ac7',\n",
       " '067c7046-d682-42c0-ba39-8f0826f60692',\n",
       " 'b3b8e3d9-3344-4d87-89a3-604b36b5e559',\n",
       " '28005d2f-16c3-47ea-be46-a968c906ee45',\n",
       " 'e37afef8-7099-4eaa-a82a-0d3bc68285d1',\n",
       " 'ec162cbd-624d-4f87-a529-5d89ac20d5ab',\n",
       " '3d5ce4ec-9628-4fdd-b264-1426336d6f08',\n",
       " 'a78d86a1-4dab-4654-9821-108b7a4619fd',\n",
       " '7be6d98c-7555-46ea-8eda-4347174160d0',\n",
       " '0a3b9fc8-23e9-4fcb-acb9-037152361e42',\n",
       " '0f56aeff-850b-4e9a-95a6-ec274e733333',\n",
       " '5dbb0028-87f9-461a-8ee7-5f80c3e09b32',\n",
       " 'c5e38947-f514-4171-a991-bd16a4f888c6',\n",
       " '4a47ff63-c2bc-424f-b561-544f05985a27',\n",
       " '518257a6-0726-489c-8fe2-856328a1e302',\n",
       " '6ecea33b-0c55-4850-aa3c-9827e8a89525',\n",
       " '84d11a2c-132f-41b3-a861-29a35e1362fd',\n",
       " '03aeef3e-1dac-400e-bd18-ea6882d8b08b',\n",
       " '5283ee18-aa61-4030-acfe-e76ec80f8942',\n",
       " '294d93b8-14a7-4dee-9c3b-f97a013d52a0',\n",
       " '9f7e5c0e-2cb1-4804-b2fc-e841e10b39fd',\n",
       " '461d5afe-0da3-4d99-a2c2-e6f5382d9bbf',\n",
       " '22106734-ea0c-4b02-b3cb-db1125073685',\n",
       " '9e285b58-7d67-41f7-bd4b-4a1f7c6c280a',\n",
       " 'cb86cd06-1d54-439b-b672-24996c3dd998',\n",
       " '65b53202-2936-4101-b431-2299fe3bc9a0',\n",
       " '90b8b705-4c01-413d-aa15-025e679c32d2',\n",
       " 'f8b4f7b4-d8b3-4b99-81ca-cca8559692a9',\n",
       " '71600db4-40f0-4655-b1d5-8a016361c1fd',\n",
       " '7afd7c05-45d4-4f37-aee8-6e1c36d053db',\n",
       " 'fd6ca95a-28a1-4cbe-b44c-4669df2c702a',\n",
       " '34ccc516-0525-4ecc-b044-1492d5085c57',\n",
       " '0f3552d4-e7a2-4343-bc96-0836ba19a4a4',\n",
       " '6e732b40-010d-48b8-b582-86e38af5b2eb',\n",
       " '2afd3f2a-7848-46b9-9a6e-012805622582',\n",
       " '20ec785f-dbe2-4e04-a698-1273da1f4638',\n",
       " '990f2c60-e09a-47b0-b94c-b161454a48c9',\n",
       " 'cc0f25c2-ab0f-4ed3-ac71-f364f505e389',\n",
       " 'b94c58c3-fe74-4125-b3ac-dc8ff12e2c1f',\n",
       " 'f250b4c2-bbf7-4a38-adef-cc74fe7bb61b',\n",
       " 'ac57ad65-9859-46f6-9cca-0c7fd67525dc',\n",
       " '96588228-4aea-43e8-b7a7-57ea74f8c3d1',\n",
       " '94e86dbd-61d0-4a96-9a40-55309e3e1972']"
      ]
     },
     "execution_count": 17,
     "metadata": {},
     "output_type": "execute_result"
    }
   ],
   "source": [
    "from uuid import uuid4\n",
    "\n",
    "uuids = [str(uuid4()) for _ in range(len(docs))]\n",
    "vector_store.add_documents(documents=docs, ids=uuids)\n"
   ]
  },
  {
   "cell_type": "code",
   "execution_count": 23,
   "id": "6cfd5330",
   "metadata": {},
   "outputs": [],
   "source": [
    "#cosine similarity retrival\n",
    "def cosine_similarity_search(query, k=5):\n",
    "    results = vector_store.similarity_search(\n",
    "    query=query,\n",
    "    k=k,\n",
    "    filter=None,)\n",
    "    return results"
   ]
  },
  {
   "cell_type": "code",
   "execution_count": 20,
   "id": "6d751134",
   "metadata": {},
   "outputs": [],
   "source": [
    "def retival_query(query, k=5):\n",
    "    retriever = vector_store.as_retriever(\n",
    "        search_type=\"similarity_score_threshold\",\n",
    "        search_kwargs={\"k\": k, \"score_threshold\": 0.4},\n",
    "    )\n",
    "    result = retriever.invoke(query, filter={\"source\": \"news\"})\n",
    "    return result"
   ]
  },
  {
   "cell_type": "code",
   "execution_count": 21,
   "id": "7bb9e68a",
   "metadata": {},
   "outputs": [],
   "source": [
    "q = \"A Star Algorithm\""
   ]
  },
  {
   "cell_type": "code",
   "execution_count": 24,
   "id": "7889f3e2",
   "metadata": {},
   "outputs": [
    {
     "data": {
      "text/plain": [
       "[Document(id='84d11a2c-132f-41b3-a861-29a35e1362fd', metadata={'author': 'IJIETAP Assistant Editor', 'creationdate': '2025-08-11T00:42:50+07:00', 'creator': 'Microsoft® Word for Microsoft 365', 'moddate': '2025-08-11T00:42:50+07:00', 'page': 14.0, 'page_label': '15', 'producer': 'Microsoft® Word for Microsoft 365', 'source': 'fyp_research_paper.pdf', 'total_pages': 22.0}, page_content='an optimal balance between overfitting and underfitting. \\nFor the selected AdaBoost classifier, a 10 -fold cross-validation scheme with stratified sampling was utilized to ensure \\na more robust evaluation and mitigate overfitting. Stratified sampling maintained consistent class proportions across all folds, \\npreserving the integrity of the imbalanced dataset. The evaluation results, including the F1 score, accuracy, and AUC -ROC \\nscore, were examined to diagnose the model ’s performance. Based on this diagnosis, it was determined that the optimized \\nAdaBoost model was not facing overfitting or underfitting problems, as the cross -validation results were consistent with the \\nreported optimal performance scores. Possible solutions for underfitting, such as regularization, feature selection, or furth er \\nfeature selection, were noted conceptually as methods to refine models toward an optimal balance. \\n \\n5.6. Results Improvement & Discussion'),\n",
       " Document(id='9e285b58-7d67-41f7-bd4b-4a1f7c6c280a', metadata={'author': 'IJIETAP Assistant Editor', 'creationdate': '2025-08-11T00:42:50+07:00', 'creator': 'Microsoft® Word for Microsoft 365', 'moddate': '2025-08-11T00:42:50+07:00', 'page': 16.0, 'page_label': '17', 'producer': 'Microsoft® Word for Microsoft 365', 'source': 'fyp_research_paper.pdf', 'total_pages': 22.0}, page_content='the alternative path , which was plotted using Folium. In Figure 11a, the red spot shows the block placed by the user, the \\nvisible nodes show the alternative path nodes out of the selected path, and the green joining the nodes shows the alternative  \\npath. Also, in Figure 11b, no block was placed, so it shows the shortest path between two nodes without the blocking of the \\nnode.  \\n \\n0,998688012\\n0,998717949\\n0,997454545\\n0,9965 0,997 0,9975 0,998 0,9985 0,999\\nF1 Score\\nAccuracy\\nAuc Roc Score\\nDifferent Cross Valiadtion \\nScorings\\nCross Validation For ADA Boost Model Diagnosis'),\n",
       " Document(id='294d93b8-14a7-4dee-9c3b-f97a013d52a0', metadata={'author': 'IJIETAP Assistant Editor', 'creationdate': '2025-08-11T00:42:50+07:00', 'creator': 'Microsoft® Word for Microsoft 365', 'moddate': '2025-08-11T00:42:50+07:00', 'page': 15.0, 'page_label': '16', 'producer': 'Microsoft® Word for Microsoft 365', 'source': 'fyp_research_paper.pdf', 'total_pages': 22.0}, page_content='Alqahtani et al. Artificial Intelligence-Based Optimal Route Selection Framework For Rescue Services  \\n \\n859 \\n \\n \\nFigure 7. Model’s accuracy score comparison \\n \\n \\n \\nFigure 8. Model’s AUC-ROC score comparison \\n \\n \\n \\nFigure 9. Evaluation scores of Ada Boost for our scaled data \\n0,99614\\n0,99871\\n0,99742\\n0,98523\\n0,9705\\n0,84958\\n0,95767\\n0,98742\\n0,75 0,8 0,85 0,9 0,95 1 1,05\\nRandom Forest\\nAda Boost\\nGradient Boosting\\nML Preceptron\\nLogistic Regressor\\nSV Classifier\\nRidge Classifier\\nDecision Tree\\nAccuracy Score\\nClassification Models\\nModel Comparison\\n0,9751\\n0,99745\\n0,99442\\n0,92235\\n0,84859\\n0,50577\\n0,68931\\n0,99442\\n0 0,2 0,4 0,6 0,8 1 1,2\\nRandom Forest\\nAda Boost\\nGradient Boosting\\nML Preceptron\\nLogistic Regressor\\nSV Classifier\\nRidge Classifier\\nDecision Tree\\nAUC ROC Score\\nClassification Models\\nModel Comparison\\n0,998688012\\n0,998717949\\n0,997454545\\n0,9965 0,997 0,9975 0,998 0,9985 0,999\\nF1 Score\\nAccuracy\\nAuc Roc Score\\nDifferent Evaluation \\nMetrics\\nADA Boost Model  Evaluation'),\n",
       " Document(id='cb86cd06-1d54-439b-b672-24996c3dd998', metadata={'author': 'IJIETAP Assistant Editor', 'creationdate': '2025-08-11T00:42:50+07:00', 'creator': 'Microsoft® Word for Microsoft 365', 'moddate': '2025-08-11T00:42:50+07:00', 'page': 17.0, 'page_label': '18', 'producer': 'Microsoft® Word for Microsoft 365', 'source': 'fyp_research_paper.pdf', 'total_pages': 22.0}, page_content='Alqahtani et al. Artificial Intelligence-Based Optimal Route Selection Framework For Rescue Services  \\n \\n861 \\n  \\n(a) (b) \\n \\nFigure 11. (a) The alternative path between two nodes generated by the A-Star algorithm after placing a block. (b) The \\nactual path between two nodes generated by the A-Star algorithm before placing a block. \\n \\n5.8. Application Deployment \\n \\nIn the last step, the model was deployed as a full-fledged application using Streamlit. In the application interface, the following \\noptions were provided: \\n• “Starting node,” “Destination node,” and “Blocking node” (where the user wants to put the block) as the inputs.  \\n• The user has four different options in the drop-down menu “See Selected path,” where the user can visualize the selected \\nzone (Figure 12). \\n• “Blocking Node Map,” where the user visualizes the selected nodes and can decide which node to block.'),\n",
       " Document(id='cc0f25c2-ab0f-4ed3-ac71-f364f505e389', metadata={'author': 'IJIETAP Assistant Editor', 'creationdate': '2025-08-11T00:42:50+07:00', 'creator': 'Microsoft® Word for Microsoft 365', 'moddate': '2025-08-11T00:42:50+07:00', 'page': 20.0, 'page_label': '21', 'producer': 'Microsoft® Word for Microsoft 365', 'source': 'fyp_research_paper.pdf', 'total_pages': 22.0}, page_content='Learning Methods: A Systematic Literature Review. Technological Forecasting and Social Change  207 (October):123621. \\nDOI: https://doi.org/10.1016/j.techfore.2024.123621. \\n \\nKozan, Elif. (2024). A New Estimation Approach in Machine Learning Regression Model. International Journal of Industrial \\nEngineering: Theory, Applications and Practice 31 (4). DOI: https://doi.org/10.23055/ijietap.2024.31.4.10039. \\n \\nKumar, P Phani, Judy Simon, K Durga Devi, M Aarthi Elaveini, and N Kapileswar . (2023). Enhanced Traffic Management \\nfor Emergency Vehicle Information Transmission Using Wireless Sensor Networks. Procedia Computer Science , 3rd \\nInternational Conference on Evolutionary Computing and Mobile Sustainable Networks (ICECMSN 2023), 230 \\n(January):798–807. DOI: https://doi.org/10.1016/j.procs.2023.12.053. \\n \\nLiao, Chun -Hsiung, Chun-Wei, and Chen . (20 15). Use of Advanced Traveler Information Systems for Route Choice:')]"
      ]
     },
     "execution_count": 24,
     "metadata": {},
     "output_type": "execute_result"
    }
   ],
   "source": [
    "cosine_similarity_search(query=q)"
   ]
  },
  {
   "cell_type": "code",
   "execution_count": null,
   "id": "b754334f",
   "metadata": {},
   "outputs": [],
   "source": []
  }
 ],
 "metadata": {
  "kernelspec": {
   "display_name": "Python 3",
   "language": "python",
   "name": "python3"
  },
  "language_info": {
   "codemirror_mode": {
    "name": "ipython",
    "version": 3
   },
   "file_extension": ".py",
   "mimetype": "text/x-python",
   "name": "python",
   "nbconvert_exporter": "python",
   "pygments_lexer": "ipython3",
   "version": "3.13.0"
  }
 },
 "nbformat": 4,
 "nbformat_minor": 5
}
